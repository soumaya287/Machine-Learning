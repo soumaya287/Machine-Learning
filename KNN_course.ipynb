{
  "cells": [
    {
      "cell_type": "markdown",
      "metadata": {
        "id": "view-in-github",
        "colab_type": "text"
      },
      "source": [
        "<a href=\"https://colab.research.google.com/github/soumaya287/Machine-Learning/blob/main/KNN_course.ipynb\" target=\"_parent\"><img src=\"https://colab.research.google.com/assets/colab-badge.svg\" alt=\"Open In Colab\"/></a>"
      ]
    },
    {
      "cell_type": "markdown",
      "id": "5be4e6d7",
      "metadata": {
        "id": "5be4e6d7"
      },
      "source": [
        "# Knn Definition\n"
      ]
    },
    {
      "cell_type": "markdown",
      "id": "6198ec48",
      "metadata": {
        "id": "6198ec48"
      },
      "source": [
        "K-Nearest-Neighbor algorithm, often abbreviated K-NN, is used to classify new data based on the assumption that it’s similar to its K nearest neighbors.\n",
        "\n",
        "Actually, we can summarize Knn in one sentence:\n",
        "\n",
        "<img src=\"https://imgur.com/skybmZM.png\">"
      ]
    },
    {
      "cell_type": "markdown",
      "id": "44dabb87",
      "metadata": {
        "id": "44dabb87"
      },
      "source": [
        "# Knn as a Lazy Learner\n",
        "You will notice that when we have explained K- NN steps we didn’t include any training process since it doesn’t need it.\n",
        "\n",
        "K- NN doesn’t learn a discriminative function from the training data but “memorizes” the training dataset instead.\n",
        "\n",
        "We call it then Lazy-learner."
      ]
    },
    {
      "cell_type": "markdown",
      "source": [
        "# Knn Non Parametric\n",
        "Unlike linear regression or polynomial regression, Knn doesn’t try to find the form of our data.\n",
        "\n",
        "The model grows with the training set.\n",
        "\n",
        "As you can see from the following examples, for the same number of classes the form of clusters changes.\n",
        "\n",
        "\n",
        "\n",
        "<img src=\"https://imgur.com/olXfDOo.png\">"
      ],
      "metadata": {
        "id": "bSK-iv5rTpk2"
      },
      "id": "bSK-iv5rTpk2"
    },
    {
      "cell_type": "markdown",
      "id": "34cf3d86",
      "metadata": {
        "id": "34cf3d86"
      },
      "source": [
        "# Knn Steps\n",
        "For a given data point x of an unknown class:\n",
        "\n"
      ]
    },
    {
      "cell_type": "markdown",
      "id": "2f851f7d",
      "metadata": {
        "id": "2f851f7d"
      },
      "source": [
        "<ol>\n",
        "  <li>Introduce the value of K.</li>\n",
        "  <li>Calculate the distance between x and all the data points in the training data.</li>\n",
        "  <li>Model picks K entries in the database which are closest to the new data point.</li>\n",
        "  <li>Then it takes the majority vote i.e the most common class/label among those K entries and that will be the class of the new data point.</li>\n",
        "</ol>\n",
        "\n",
        "<img src=\"https://imgur.com/4wvgoUa.png\">"
      ]
    },
    {
      "cell_type": "markdown",
      "id": "86bf1ed1",
      "metadata": {
        "id": "86bf1ed1"
      },
      "source": [
        "# Knn Distance Parameter\n",
        "K-NN algorithm gives the user the flexibility to choose distance while building K-NN model.\n",
        "\n",
        "<img src=\"https://imgur.com/nvINpWR.png\">"
      ]
    },
    {
      "cell_type": "code",
      "execution_count": null,
      "id": "2b904f52",
      "metadata": {
        "id": "2b904f52",
        "outputId": "e6e859d6-6b6b-4857-d8bb-452e003d2b36"
      },
      "outputs": [
        {
          "name": "stdout",
          "output_type": "stream",
          "text": [
            "8.06225774829855\n"
          ]
        }
      ],
      "source": [
        "import math\n",
        "x1 = [1,1]\n",
        "x2 = [2,9]\n",
        "#calculating Euclidean distance\n",
        "distance =math.sqrt(math.pow(x1[0]-x2[0],2) + math.pow(x1[1]-x2[1],2) )\n",
        "print(distance)"
      ]
    },
    {
      "cell_type": "markdown",
      "id": "67119884",
      "metadata": {
        "id": "67119884"
      },
      "source": [
        "# Knn Code Data\n",
        "Here’s an example of how to use Knn:\n",
        "\n",
        "We will be working on Iris dataset.\n",
        "\n",
        "It’s a dataset containing different flower types and their characteristics. We are going to try and classify new flowers using KNN"
      ]
    },
    {
      "cell_type": "code",
      "execution_count": null,
      "id": "245b1c17",
      "metadata": {
        "id": "245b1c17",
        "outputId": "0ce810d3-0ebd-4d86-d407-0bbed4c7216e"
      },
      "outputs": [
        {
          "data": {
            "text/html": [
              "<div>\n",
              "<style scoped>\n",
              "    .dataframe tbody tr th:only-of-type {\n",
              "        vertical-align: middle;\n",
              "    }\n",
              "\n",
              "    .dataframe tbody tr th {\n",
              "        vertical-align: top;\n",
              "    }\n",
              "\n",
              "    .dataframe thead th {\n",
              "        text-align: right;\n",
              "    }\n",
              "</style>\n",
              "<table border=\"1\" class=\"dataframe\">\n",
              "  <thead>\n",
              "    <tr style=\"text-align: right;\">\n",
              "      <th></th>\n",
              "      <th>sepal.length</th>\n",
              "      <th>sepal.width</th>\n",
              "      <th>petal.length</th>\n",
              "      <th>petal.width</th>\n",
              "      <th>variety</th>\n",
              "    </tr>\n",
              "  </thead>\n",
              "  <tbody>\n",
              "    <tr>\n",
              "      <th>0</th>\n",
              "      <td>5.1</td>\n",
              "      <td>3.5</td>\n",
              "      <td>1.4</td>\n",
              "      <td>0.2</td>\n",
              "      <td>Setosa</td>\n",
              "    </tr>\n",
              "    <tr>\n",
              "      <th>1</th>\n",
              "      <td>4.9</td>\n",
              "      <td>3.0</td>\n",
              "      <td>1.4</td>\n",
              "      <td>0.2</td>\n",
              "      <td>Setosa</td>\n",
              "    </tr>\n",
              "    <tr>\n",
              "      <th>2</th>\n",
              "      <td>4.7</td>\n",
              "      <td>3.2</td>\n",
              "      <td>1.3</td>\n",
              "      <td>0.2</td>\n",
              "      <td>Setosa</td>\n",
              "    </tr>\n",
              "    <tr>\n",
              "      <th>3</th>\n",
              "      <td>4.6</td>\n",
              "      <td>3.1</td>\n",
              "      <td>1.5</td>\n",
              "      <td>0.2</td>\n",
              "      <td>Setosa</td>\n",
              "    </tr>\n",
              "    <tr>\n",
              "      <th>4</th>\n",
              "      <td>5.0</td>\n",
              "      <td>3.6</td>\n",
              "      <td>1.4</td>\n",
              "      <td>0.2</td>\n",
              "      <td>Setosa</td>\n",
              "    </tr>\n",
              "    <tr>\n",
              "      <th>...</th>\n",
              "      <td>...</td>\n",
              "      <td>...</td>\n",
              "      <td>...</td>\n",
              "      <td>...</td>\n",
              "      <td>...</td>\n",
              "    </tr>\n",
              "    <tr>\n",
              "      <th>145</th>\n",
              "      <td>6.7</td>\n",
              "      <td>3.0</td>\n",
              "      <td>5.2</td>\n",
              "      <td>2.3</td>\n",
              "      <td>Virginica</td>\n",
              "    </tr>\n",
              "    <tr>\n",
              "      <th>146</th>\n",
              "      <td>6.3</td>\n",
              "      <td>2.5</td>\n",
              "      <td>5.0</td>\n",
              "      <td>1.9</td>\n",
              "      <td>Virginica</td>\n",
              "    </tr>\n",
              "    <tr>\n",
              "      <th>147</th>\n",
              "      <td>6.5</td>\n",
              "      <td>3.0</td>\n",
              "      <td>5.2</td>\n",
              "      <td>2.0</td>\n",
              "      <td>Virginica</td>\n",
              "    </tr>\n",
              "    <tr>\n",
              "      <th>148</th>\n",
              "      <td>6.2</td>\n",
              "      <td>3.4</td>\n",
              "      <td>5.4</td>\n",
              "      <td>2.3</td>\n",
              "      <td>Virginica</td>\n",
              "    </tr>\n",
              "    <tr>\n",
              "      <th>149</th>\n",
              "      <td>5.9</td>\n",
              "      <td>3.0</td>\n",
              "      <td>5.1</td>\n",
              "      <td>1.8</td>\n",
              "      <td>Virginica</td>\n",
              "    </tr>\n",
              "  </tbody>\n",
              "</table>\n",
              "<p>150 rows × 5 columns</p>\n",
              "</div>"
            ],
            "text/plain": [
              "     sepal.length  sepal.width  petal.length  petal.width    variety\n",
              "0             5.1          3.5           1.4          0.2     Setosa\n",
              "1             4.9          3.0           1.4          0.2     Setosa\n",
              "2             4.7          3.2           1.3          0.2     Setosa\n",
              "3             4.6          3.1           1.5          0.2     Setosa\n",
              "4             5.0          3.6           1.4          0.2     Setosa\n",
              "..            ...          ...           ...          ...        ...\n",
              "145           6.7          3.0           5.2          2.3  Virginica\n",
              "146           6.3          2.5           5.0          1.9  Virginica\n",
              "147           6.5          3.0           5.2          2.0  Virginica\n",
              "148           6.2          3.4           5.4          2.3  Virginica\n",
              "149           5.9          3.0           5.1          1.8  Virginica\n",
              "\n",
              "[150 rows x 5 columns]"
            ]
          },
          "execution_count": 8,
          "metadata": {},
          "output_type": "execute_result"
        }
      ],
      "source": [
        "#Reading the dataset\n",
        "import pandas as pd\n",
        "data1=pd.read_csv(\"iris.csv\")\n",
        "data1"
      ]
    },
    {
      "cell_type": "code",
      "execution_count": null,
      "id": "c6c75eee",
      "metadata": {
        "id": "c6c75eee",
        "outputId": "1c5aaeb9-a289-4c89-9abc-7f9d9f3c6673"
      },
      "outputs": [
        {
          "data": {
            "text/html": [
              "<div>\n",
              "<style scoped>\n",
              "    .dataframe tbody tr th:only-of-type {\n",
              "        vertical-align: middle;\n",
              "    }\n",
              "\n",
              "    .dataframe tbody tr th {\n",
              "        vertical-align: top;\n",
              "    }\n",
              "\n",
              "    .dataframe thead th {\n",
              "        text-align: right;\n",
              "    }\n",
              "</style>\n",
              "<table border=\"1\" class=\"dataframe\">\n",
              "  <thead>\n",
              "    <tr style=\"text-align: right;\">\n",
              "      <th></th>\n",
              "      <th>sepal.length</th>\n",
              "      <th>sepal.width</th>\n",
              "      <th>petal.length</th>\n",
              "      <th>petal.width</th>\n",
              "      <th>variety</th>\n",
              "    </tr>\n",
              "  </thead>\n",
              "  <tbody>\n",
              "    <tr>\n",
              "      <th>0</th>\n",
              "      <td>5.1</td>\n",
              "      <td>3.5</td>\n",
              "      <td>1.4</td>\n",
              "      <td>0.2</td>\n",
              "      <td>0</td>\n",
              "    </tr>\n",
              "    <tr>\n",
              "      <th>1</th>\n",
              "      <td>4.9</td>\n",
              "      <td>3.0</td>\n",
              "      <td>1.4</td>\n",
              "      <td>0.2</td>\n",
              "      <td>0</td>\n",
              "    </tr>\n",
              "    <tr>\n",
              "      <th>2</th>\n",
              "      <td>4.7</td>\n",
              "      <td>3.2</td>\n",
              "      <td>1.3</td>\n",
              "      <td>0.2</td>\n",
              "      <td>0</td>\n",
              "    </tr>\n",
              "    <tr>\n",
              "      <th>3</th>\n",
              "      <td>4.6</td>\n",
              "      <td>3.1</td>\n",
              "      <td>1.5</td>\n",
              "      <td>0.2</td>\n",
              "      <td>0</td>\n",
              "    </tr>\n",
              "    <tr>\n",
              "      <th>4</th>\n",
              "      <td>5.0</td>\n",
              "      <td>3.6</td>\n",
              "      <td>1.4</td>\n",
              "      <td>0.2</td>\n",
              "      <td>0</td>\n",
              "    </tr>\n",
              "    <tr>\n",
              "      <th>...</th>\n",
              "      <td>...</td>\n",
              "      <td>...</td>\n",
              "      <td>...</td>\n",
              "      <td>...</td>\n",
              "      <td>...</td>\n",
              "    </tr>\n",
              "    <tr>\n",
              "      <th>145</th>\n",
              "      <td>6.7</td>\n",
              "      <td>3.0</td>\n",
              "      <td>5.2</td>\n",
              "      <td>2.3</td>\n",
              "      <td>2</td>\n",
              "    </tr>\n",
              "    <tr>\n",
              "      <th>146</th>\n",
              "      <td>6.3</td>\n",
              "      <td>2.5</td>\n",
              "      <td>5.0</td>\n",
              "      <td>1.9</td>\n",
              "      <td>2</td>\n",
              "    </tr>\n",
              "    <tr>\n",
              "      <th>147</th>\n",
              "      <td>6.5</td>\n",
              "      <td>3.0</td>\n",
              "      <td>5.2</td>\n",
              "      <td>2.0</td>\n",
              "      <td>2</td>\n",
              "    </tr>\n",
              "    <tr>\n",
              "      <th>148</th>\n",
              "      <td>6.2</td>\n",
              "      <td>3.4</td>\n",
              "      <td>5.4</td>\n",
              "      <td>2.3</td>\n",
              "      <td>2</td>\n",
              "    </tr>\n",
              "    <tr>\n",
              "      <th>149</th>\n",
              "      <td>5.9</td>\n",
              "      <td>3.0</td>\n",
              "      <td>5.1</td>\n",
              "      <td>1.8</td>\n",
              "      <td>2</td>\n",
              "    </tr>\n",
              "  </tbody>\n",
              "</table>\n",
              "<p>150 rows × 5 columns</p>\n",
              "</div>"
            ],
            "text/plain": [
              "     sepal.length  sepal.width  petal.length  petal.width  variety\n",
              "0             5.1          3.5           1.4          0.2        0\n",
              "1             4.9          3.0           1.4          0.2        0\n",
              "2             4.7          3.2           1.3          0.2        0\n",
              "3             4.6          3.1           1.5          0.2        0\n",
              "4             5.0          3.6           1.4          0.2        0\n",
              "..            ...          ...           ...          ...      ...\n",
              "145           6.7          3.0           5.2          2.3        2\n",
              "146           6.3          2.5           5.0          1.9        2\n",
              "147           6.5          3.0           5.2          2.0        2\n",
              "148           6.2          3.4           5.4          2.3        2\n",
              "149           5.9          3.0           5.1          1.8        2\n",
              "\n",
              "[150 rows x 5 columns]"
            ]
          },
          "execution_count": 9,
          "metadata": {},
          "output_type": "execute_result"
        }
      ],
      "source": [
        "#Converting categorical to numerical so we can use knn\n",
        "data1['variety']=data1['variety'].map({'Setosa':0,'Versicolor':1,'Virginica':2})\n",
        "\n",
        "#Choosing the features as x and the target as y\n",
        "x=data1[['sepal.length','sepal.width','petal.length','petal.width']]\n",
        "y=data1['variety']\n",
        "data1"
      ]
    },
    {
      "cell_type": "code",
      "execution_count": null,
      "id": "ae7c1d73",
      "metadata": {
        "id": "ae7c1d73",
        "outputId": "21a1af3b-94e2-4a2f-8f79-1071c25eb3cd"
      },
      "outputs": [
        {
          "name": "stdout",
          "output_type": "stream",
          "text": [
            "Acuuracy= 0.9666666666666667\n"
          ]
        }
      ],
      "source": [
        "#import the relevant libraries\n",
        "from sklearn.model_selection import train_test_split\n",
        "from sklearn.neighbors import KNeighborsClassifier\n",
        "from sklearn.metrics import accuracy_score\n",
        "\n",
        "x_train,x_test,y_train,y_test=train_test_split(x,y,test_size=0.2,random_state=30) #split our data with test size of 20% \n",
        "\n",
        "knn=KNeighborsClassifier(n_neighbors=20) #build our knn classifier\n",
        "knn.fit(x_train,y_train) #Training KNN classifier\n",
        "y_pred=knn.predict(x_test)  #Testing\n",
        "print('Acuuracy=',accuracy_score(y_pred,y_test))"
      ]
    },
    {
      "cell_type": "markdown",
      "id": "fb19a157",
      "metadata": {
        "id": "fb19a157"
      },
      "source": [
        "# Optimal K Value\n",
        "Choosing the right value of K can be really tricky, one of the ways to make that process easier is running a ”for loop“and trying out different K values."
      ]
    },
    {
      "cell_type": "code",
      "execution_count": null,
      "id": "a2a05adf",
      "metadata": {
        "id": "a2a05adf",
        "outputId": "19fa55c0-0227-4abb-a11c-4160cbeaabf2"
      },
      "outputs": [
        {
          "name": "stdout",
          "output_type": "stream",
          "text": [
            "Accuracy for k= 1 is: 1.0\n",
            "Accuracy for k= 2 is: 0.93\n",
            "Accuracy for k= 3 is: 1.0\n",
            "Accuracy for k= 4 is: 0.93\n",
            "Accuracy for k= 5 is: 0.97\n",
            "Accuracy for k= 6 is: 0.97\n",
            "Accuracy for k= 7 is: 1.0\n",
            "Accuracy for k= 8 is: 0.97\n",
            "Accuracy for k= 9 is: 1.0\n",
            "Accuracy for k= 10 is: 0.97\n",
            "Accuracy for k= 11 is: 1.0\n",
            "Accuracy for k= 12 is: 1.0\n",
            "Accuracy for k= 13 is: 1.0\n",
            "Accuracy for k= 14 is: 1.0\n",
            "Accuracy for k= 15 is: 1.0\n",
            "Accuracy for k= 16 is: 1.0\n",
            "Accuracy for k= 17 is: 1.0\n",
            "Accuracy for k= 18 is: 1.0\n",
            "Accuracy for k= 19 is: 1.0\n",
            "Accuracy for k= 20 is: 0.97\n",
            "Accuracy for k= 21 is: 1.0\n",
            "Accuracy for k= 22 is: 0.97\n",
            "Accuracy for k= 23 is: 0.97\n",
            "Accuracy for k= 24 is: 0.93\n",
            "Accuracy for k= 25 is: 0.93\n",
            "Accuracy for k= 26 is: 0.9\n",
            "Accuracy for k= 27 is: 0.93\n",
            "Accuracy for k= 28 is: 0.93\n",
            "Accuracy for k= 29 is: 0.9\n"
          ]
        }
      ],
      "source": [
        "n_neighbors=30\n",
        "scores=[]\n",
        "for k in range(1,30):\n",
        "    knn=KNeighborsClassifier(n_neighbors-k)\n",
        "    knn.fit(x_train,y_train)\n",
        "    y_pred=knn.predict(x_test)\n",
        "    print('Accuracy for k=',k,'is:',round(accuracy_score(y_pred,y_test),2))\n",
        "    scores.append(round(accuracy_score(y_pred,y_test),2))"
      ]
    },
    {
      "cell_type": "markdown",
      "id": "bbd1f13b",
      "metadata": {
        "id": "bbd1f13b"
      },
      "source": [
        "# Optimal K Value Plot\n",
        "Thanks to this plot we can easily find the best K value."
      ]
    },
    {
      "cell_type": "code",
      "execution_count": null,
      "id": "7f267d72",
      "metadata": {
        "id": "7f267d72",
        "outputId": "2d1841fb-842d-4237-803d-2c478869d381"
      },
      "outputs": [
        {
          "data": {
            "text/plain": [
              "Text(0, 0.5, 'Testing Accuracy')"
            ]
          },
          "execution_count": 12,
          "metadata": {},
          "output_type": "execute_result"
        },
        {
          "data": {
            "image/png": "[encoded data removed]",
            "text/plain": [
              "<Figure size 432x288 with 1 Axes>"
            ]
          },
          "metadata": {
            "needs_background": "light"
          },
          "output_type": "display_data"
        }
      ],
      "source": [
        "import matplotlib.pyplot as plt\n",
        "plt.plot(range(1,30),scores)\n",
        "plt.xlabel('Value K for KNN')\n",
        "plt.ylabel('Testing Accuracy')\n"
      ]
    },
    {
      "cell_type": "markdown",
      "id": "1970a39f",
      "metadata": {
        "id": "1970a39f"
      },
      "source": [
        "# Knn Results Different K\n",
        "\n",
        "<img src=\"https://imgur.com/cjKvUPw.png\">"
      ]
    },
    {
      "cell_type": "markdown",
      "id": "c5a3597b",
      "metadata": {
        "id": "c5a3597b"
      },
      "source": [
        "# K-NN Pros\n",
        "Amongst the advantages of Knn, we can mention :\n",
        "\n",
        "*No assumptions about data. For example: unlike the ones imposed by the linear model.\n",
        "\n",
        "*Simple algorithm: easy to understand and interpret.\n",
        "\n",
        "*No training needed.\n",
        "\n",
        "*Variety of distance functions.\n",
        "\n",
        "*Can be used both for Classification and Regression."
      ]
    },
    {
      "cell_type": "markdown",
      "id": "2660fe80",
      "metadata": {
        "id": "2660fe80"
      },
      "source": [
        "# Knn Cons\n",
        "No algorithm is perfect; even K- NN has its disadvantages too :\n",
        "\n",
        "K-NN needs homogeneous feature as features must have the same scale.\n",
        "\n",
        "K-NN is a slow algorithm: K-NN might be very easy to implement but as the dataset grows, the efficiency and/or the speed of the algorithm decline very fast.\n",
        "\n",
        "Outlier sensitivity: K-NN algorithm is very sensitive to outliers as it simply chooses the neighbors based on distance criteria.\n",
        "\n",
        "Imbalanced data causes problems: For example, if we have two classes and one class is dominant more than the other, it will eventually represent 80% of the dataset."
      ]
    },
    {
      "cell_type": "markdown",
      "id": "72da74dd",
      "metadata": {
        "id": "72da74dd"
      },
      "source": [
        "# RECAP\n",
        "** KNN is a non-parametric machine learning algorithm.\n",
        "\n",
        "** The purpose of KNN is to predict the classification of a new random point compared to other features(neighbors).\n",
        "\n",
        "** To find the best k value, we apply the elbow method."
      ]
    },
    {
      "cell_type": "markdown",
      "id": "dc83be73",
      "metadata": {
        "id": "dc83be73"
      },
      "source": [
        "# Useful link!!\n",
        "https://tomaszgolan.github.io/introduction_to_machine_learning/markdown/introduction_to_machine_learning_01_knn/introduction_to_machine_learning_01_knn/\n",
        "https://github.com/TomaszGolan/introduction_to_machine_learning/blob/master/docs/notebooks/introduction_to_machine_learning_01_knn.ipynb\n",
        "https://www.kaggle.com/code/amolbhivarkar/knn-for-classification-using-scikit-learn/notebook\n",
        "Different Types of Distance Metrics used in Machine Learning: https://medium.com/@kunal_gohrani/different-types-of-distance-metrics-used-in-machine-learning-e9928c5e26c7"
      ]
    },
    {
      "cell_type": "code",
      "execution_count": null,
      "id": "3ada1cd6",
      "metadata": {
        "id": "3ada1cd6"
      },
      "outputs": [],
      "source": [
        ""
      ]
    }
  ],
  "metadata": {
    "kernelspec": {
      "display_name": "Python 3 (ipykernel)",
      "language": "python",
      "name": "python3"
    },
    "language_info": {
      "codemirror_mode": {
        "name": "ipython",
        "version": 3
      },
      "file_extension": ".py",
      "mimetype": "text/x-python",
      "name": "python",
      "nbconvert_exporter": "python",
      "pygments_lexer": "ipython3",
      "version": "3.9.7"
    },
    "colab": {
      "name": "KNN-course.ipynb",
      "provenance": [],
      "collapsed_sections": [],
      "include_colab_link": true
    }
  },
  "nbformat": 4,
  "nbformat_minor": 5
}